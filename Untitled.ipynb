{
 "cells": [
  {
   "cell_type": "code",
   "execution_count": 178,
   "id": "1b3a921a-5f4b-40e5-a37b-348afbfb4fcd",
   "metadata": {},
   "outputs": [
    {
     "name": "stderr",
     "output_type": "stream",
     "text": [
      "[nltk_data] Downloading package stopwords to /Users/rahul/nltk_data...\n",
      "[nltk_data]   Package stopwords is already up-to-date!\n"
     ]
    },
    {
     "name": "stdout",
     "output_type": "stream",
     "text": [
      "Accuracy score of the training data: 0.9903846153846154\n",
      "Accuracy score of the test data: 0.9875\n",
      "Cross-validated scores: [0.98557692 0.98509615 0.9875     0.98485577 0.98533654]\n",
      "Mean cross-validated accuracy: 0.985673076923077\n",
      "Prediction: [0]\n",
      "Actual label: 0\n",
      "The News is Real\n"
     ]
    }
   ],
   "source": [
    "# Importing libraries\n",
    "import numpy as np\n",
    "import pandas as pd\n",
    "import re\n",
    "import nltk\n",
    "from nltk.corpus import stopwords\n",
    "from nltk.stem.porter import PorterStemmer\n",
    "from sklearn.feature_extraction.text import TfidfVectorizer\n",
    "from sklearn.model_selection import train_test_split, cross_val_score\n",
    "from sklearn.linear_model import LogisticRegression\n",
    "from sklearn.metrics import accuracy_score\n",
    "\n",
    "# Download stopwords\n",
    "nltk.download('stopwords')\n",
    "\n",
    "# Load dataset\n",
    "fake_data = pd.read_csv('/users/rahul/Desktop/ML/news.csv')\n",
    "fake_data = fake_data.fillna('')\n",
    "\n",
    "# Combine author and title to form the content\n",
    "fake_data['content'] = fake_data['author'] + ' ' + fake_data['title']\n",
    "\n",
    "# Initialize stemmer\n",
    "port_stem = PorterStemmer()\n",
    "\n",
    "# Stemming function\n",
    "def stemming(content):\n",
    "    stemmed_content = re.sub('[^a-zA-Z]', ' ', content)\n",
    "    stemmed_content = stemmed_content.lower()\n",
    "    stemmed_content = stemmed_content.split()\n",
    "    stemmed_content = [port_stem.stem(word) for word in stemmed_content]\n",
    "    return ' '.join(stemmed_content)\n",
    "\n",
    "# Apply stemming\n",
    "fake_data['content'] = fake_data['content'].apply(stemming)\n",
    "\n",
    "# Features and labels\n",
    "x = fake_data['content']\n",
    "y = fake_data['label']\n",
    "\n",
    "# Vectorize text data\n",
    "vectorizer = TfidfVectorizer(max_features=3000, stop_words='english', ngram_range=(1, 2))\n",
    "x = vectorizer.fit_transform(x)\n",
    "\n",
    "# Split data\n",
    "x_train, x_test, y_train, y_test = train_test_split(x, y, test_size=0.2, stratify=y, random_state=2)\n",
    "\n",
    "# Train using Logistic Regression\n",
    "model = LogisticRegression()\n",
    "model.fit(x_train, y_train)\n",
    "\n",
    "# Evaluate on training and test data\n",
    "x_train_pred = model.predict(x_train)\n",
    "x_test_pred = model.predict(x_test)\n",
    "\n",
    "train_accuracy = accuracy_score(y_train, x_train_pred)\n",
    "test_accuracy = accuracy_score(y_test, x_test_pred)\n",
    "\n",
    "print(\"Accuracy score of the training data:\", train_accuracy)\n",
    "print(\"Accuracy score of the test data:\", test_accuracy)\n",
    "\n",
    "# Cross-validation scores\n",
    "cv_scores = cross_val_score(model, x, y, cv=5)\n",
    "print(\"Cross-validated scores:\", cv_scores)\n",
    "print(\"Mean cross-validated accuracy:\", cv_scores.mean())\n",
    "\n",
    "# Predicting a single instance\n",
    "x_new = x_test[3]\n",
    "prediction = model.predict(x_new)\n",
    "\n",
    "print(\"Prediction:\", prediction)\n",
    "print(\"Actual label:\", y_test.iloc[1])\n",
    "\n",
    "if prediction[0] == 0:\n",
    "    print(\"The News is Real\")\n",
    "else:\n",
    "    print(\"The News is Fake\")"
   ]
  },
  {
   "cell_type": "code",
   "execution_count": null,
   "id": "538532fd-0f6f-470e-96ca-aebe4e85e87e",
   "metadata": {},
   "outputs": [],
   "source": []
  }
 ],
 "metadata": {
  "kernelspec": {
   "display_name": "Python 3 (ipykernel)",
   "language": "python",
   "name": "python3"
  },
  "language_info": {
   "codemirror_mode": {
    "name": "ipython",
    "version": 3
   },
   "file_extension": ".py",
   "mimetype": "text/x-python",
   "name": "python",
   "nbconvert_exporter": "python",
   "pygments_lexer": "ipython3",
   "version": "3.12.7"
  }
 },
 "nbformat": 4,
 "nbformat_minor": 5
}
